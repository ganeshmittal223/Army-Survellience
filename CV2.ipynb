{
 "cells": [
  {
   "cell_type": "markdown",
   "id": "66111354",
   "metadata": {},
   "source": [
    "#  Army Survillience System\n"
   ]
  },
  {
   "cell_type": "markdown",
   "id": "eeb4c845",
   "metadata": {},
   "source": [
    "The project aims at providing security survillence near unauthorized regions. To protect unwanted people to enter the region. The system detects any unauthorised person and displays unknown and recognise the authorised persons only.\n",
    "\n",
    "It stores the logs of authorised persons and enable them to enter the zone."
   ]
  },
  {
   "cell_type": "code",
   "execution_count": null,
   "id": "6f2da423",
   "metadata": {},
   "outputs": [],
   "source": [
    "import cv2\n"
   ]
  },
  {
   "cell_type": "code",
   "execution_count": null,
   "id": "a420c90c",
   "metadata": {},
   "outputs": [],
   "source": [
    "cv2.__version__"
   ]
  },
  {
   "cell_type": "code",
   "execution_count": null,
   "id": "d19dbb38",
   "metadata": {},
   "outputs": [
    {
     "name": "stdout",
     "output_type": "stream",
     "text": [
      "Who are You?: Ganesh\n",
      "-------------.....Smile.....Capturing ......----------------------\n"
     ]
    }
   ],
   "source": [
    "import cv2, sys, numpy, os, time\n",
    "count = 0\n",
    "size = 4\n",
    "fn_haar = 'haarcascade_frontalface_default.xml'\n",
    "fn_dir = 'images'\n",
    "fn_name = input(\"Who are You?: \")\n",
    "path = os.path.join(fn_dir, fn_name)\n",
    "\n",
    "(im_width, im_height) = (112, 92)\n",
    "haar_cascade = cv2.CascadeClassifier(fn_haar)\n",
    "webcam = cv2.VideoCapture(0)\n",
    "\n",
    "print(\"-------------.....Smile.....Capturing ......----------------------\")\n",
    "\n",
    "\n",
    "while count < 50:\n",
    "    (rval, im) = webcam.read()\n",
    "    im = cv2.flip(im, 1, 0)\n",
    "    gray = cv2.cvtColor(im, cv2.COLOR_BGR2GRAY)\n",
    "    mini = cv2.resize(gray,(gray.shape[1]//size, gray.shape[0]//size))\n",
    "    faces = haar_cascade.detectMultiScale(mini)\n",
    "    faces = sorted(faces, key=lambda x: x[3])\n",
    "    if faces:\n",
    "        face_i = faces[0]\n",
    "        (x, y, w, h) = [v * size for v in face_i]\n",
    "        face = gray[y:y + h, x:x + w]\n",
    "        face_resize = cv2.resize(face, (im_width, im_height))\n",
    "        pin=sorted([int(n[:n.find('.')]) for n in os.listdir(path)\n",
    "               if n[0]!='.' ]+[0])[-1] + 1\n",
    "        cv2.imwrite('%s/%s.png' % (path, pin), face_resize)\n",
    "        cv2.rectangle(im, (x, y), (x + w, y + h), (0, 255, 0), 3)\n",
    "        cv2.putText(im, fn_name, (x - 10, y - 10), cv2.FONT_HERSHEY_PLAIN,\n",
    "            1,(0, 255, 0))\n",
    "        time.sleep(0.38)\n",
    "        count += 1\n",
    "    cv2.imshow('OpenCV', im)\n",
    "    if cv2.waitKey(1) & 0xFF == ord('e'):\n",
    "        break\n",
    "webcam.release()\n",
    "cv2.destroyAllWindows()\n",
    "print(str(count) + \" images taken and saved to \" + fn_name +\" folder in database \")"
   ]
  },
  {
   "cell_type": "code",
   "execution_count": null,
   "id": "95c2ed78",
   "metadata": {},
   "outputs": [],
   "source": [
    "pip install opencv-contrib-python"
   ]
  },
  {
   "cell_type": "code",
   "execution_count": null,
   "id": "b5b4f29a",
   "metadata": {},
   "outputs": [],
   "source": [
    "\n",
    "import cv2, sys, numpy, os\n",
    "size=4\n",
    "haar_file = 'haarcascade_frontalface_default.xml'\n",
    "datasets = 'images'\n",
    "\n",
    "print('Training...')\n",
    "# Create a list of images and a list of corresponding names\n",
    "(images, lables, names, id) = ([], [], {}, 0)\n",
    "for (subdirs, dirs, files) in os.walk(datasets):\n",
    "    for subdir in dirs:\n",
    "        names[id] = subdir\n",
    "        subjectpath = os.path.join(datasets, subdir)\n",
    "        for filename in os.listdir(subjectpath):\n",
    "            path = subjectpath + '/' + filename\n",
    "            lable = id\n",
    "            images.append(cv2.imread(path, 0))\n",
    "            lables.append(int(lable))\n",
    "        id += 1\n",
    "(width, height) = (130, 100)\n",
    "\n",
    "(images, lables) = [numpy.array(lis) for lis in [images, lables]]\n",
    "\n",
    "model = cv2.face.LBPHFaceRecognizer()\n",
    "model.train(images, lables)\n",
    "\n",
    "face_cascade = cv2.CascadeClassifier(haar_file)\n",
    "webcam = cv2.VideoCapture(0)\n",
    "while True:\n",
    "    (_, im) = webcam.read()\n",
    "    gray = cv2.cvtColor(im, cv2.COLOR_BGR2GRAY)\n",
    "    faces = face_cascade.detectMultiScale(gray, 1.3, 5)\n",
    "    for (x, y, w, h) in faces:\n",
    "        cv2.rectangle(im, (x, y), (x + w, y + h), (255, 0, 0), 2)\n",
    "        face = gray[y:y + h, x:x + w]\n",
    "        face_resize = cv2.resize(face, (width, height))\n",
    "        # Try to recognize the face\n",
    "        prediction = model.predict(face_resize)\n",
    "        cv2.rectangle(im, (x, y), (x + w, y + h), (0, 255, 0), 3)\n",
    "\n",
    "        if prediction[1] < 100:\n",
    "            cv2.putText(im, '%s - %.0f' % (names[prediction[0]], prediction[1]), (x - 10, y - 10),\n",
    "                        cv2.FONT_HERSHEY_PLAIN, 1, (0, 255, 0))\n",
    "        else:\n",
    "            cv2.putText(im, 'UNKNOWN', (x - 10, y - 10), cv2.FONT_HERSHEY_PLAIN, 1, (0, 0,255))\n",
    "\n",
    "    cv2.imshow('OpenCV', im)\n",
    "    if cv2.waitKey(1) & 0xFF ==ord('e'):\n",
    "        break\n",
    "        \n",
    "webcam.release()\n",
    "cv2.destroyAllWindows()"
   ]
  },
  {
   "cell_type": "raw",
   "id": "9193b319",
   "metadata": {},
   "source": [
    "import smtplib\n",
    "import os\n",
    "from email.message import EmailMessage\n",
    "\n",
    "# Email address and password of sender\n",
    "sender_email = 'gauravixd04@gmail.com'\n",
    "sender_password = 'dabpgpjfbrdbxtqn'\n",
    "\n",
    "# Email address of recipient\n",
    "recipient_email = 'vvishalakshi_be20@thapar.edu'\n",
    "\n",
    "# Create EmailMessage object\n",
    "msg = EmailMessage()\n",
    "\n",
    "# Set email content\n",
    "msg['Subject'] = 'Database Folder'\n",
    "msg['From'] = sender_email\n",
    "msg['To'] = recipient_email\n",
    "msg.set_content('Please find attached the database folder.')\n",
    "\n",
    "# Get the path of the folder to be attached\n",
    "folder_path = 'images/Gaurav'\n",
    "\n",
    "# Get the list of files in the folder\n",
    "files = os.listdir(folder_path)\n",
    "\n",
    "# Attach each file to the email\n",
    "for file in files:\n",
    "    with open(os.path.join(folder_path, file), 'rb') as f:\n",
    "        file_data = f.read()\n",
    "        msg.add_attachment(file_data, maintype='application', subtype='octet-stream', filename=file)\n",
    "\n",
    "# Send the email\n",
    "with smtplib.SMTP_SSL('smtp.gmail.com', 465) as smtp:\n",
    "    smtp.login(sender_email, sender_password)\n",
    "    smtp.send_message(msg)\n"
   ]
  }
 ],
 "metadata": {
  "kernelspec": {
   "display_name": "Python 3 (ipykernel)",
   "language": "python",
   "name": "python3"
  },
  "language_info": {
   "codemirror_mode": {
    "name": "ipython",
    "version": 3
   },
   "file_extension": ".py",
   "mimetype": "text/x-python",
   "name": "python",
   "nbconvert_exporter": "python",
   "pygments_lexer": "ipython3",
   "version": "3.11.5"
  },
  "vscode": {
   "interpreter": {
    "hash": "b98f472bb8ba48098397e3b897b5be76f7bf0e62d98845cdb0e8066dc5677259"
   }
  }
 },
 "nbformat": 4,
 "nbformat_minor": 5
}
